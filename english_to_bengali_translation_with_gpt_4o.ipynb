{
  "cells": [
    {
      "cell_type": "markdown",
      "metadata": {
        "id": "view-in-github",
        "colab_type": "text"
      },
      "source": [
        "<a href=\"https://colab.research.google.com/github/ankanghosh/english_to_bengali_translation_with_gpt-4o/blob/main/english_to_bengali_translation_with_gpt_4o.ipynb\" target=\"_parent\"><img src=\"https://colab.research.google.com/assets/colab-badge.svg\" alt=\"Open In Colab\"/></a>"
      ]
    },
    {
      "cell_type": "markdown",
      "source": [
        "# Fine-tuning GPT-4o for English-to-Bengali Translation\n",
        "\n",
        "---\n",
        "\n"
      ],
      "metadata": {
        "id": "Q8remGGzS3Wk"
      },
      "id": "Q8remGGzS3Wk"
    },
    {
      "cell_type": "markdown",
      "source": [
        "### Motivation"
      ],
      "metadata": {
        "id": "dz1sQZIwfIdG"
      },
      "id": "dz1sQZIwfIdG"
    },
    {
      "cell_type": "markdown",
      "source": [
        "This is a basic implementation of an English-to-Bengali translation service or chatbot using GPT-4o. We will use the [Bn-EN PMIndia Parallel Corpus](https://data.statmt.org/pmindia/v1/parallel/) data for fine-tuning our Large Language Model (LLM) - GPT-4o.\n",
        "\n",
        "Of course, the GPT models are already great at tranlsation tasks. But if we have a domain-specific task, fine-tuning the LLM will almost certainly yield better results. For example, there are many languages that have very less translation (let's say to / from English) data available for pre-training and therefore the GPT models are limited in terms of their knowledge about such languages. If the goal is to translate between such a language and English or another language, it is of merit to create a smaller dataset with fine-tuning examples for the LLM to learn from.\n",
        "\n",
        "Please note that we are not using the OpenAI Fine-tuning API for fine-tuning the LLM. Instead, we are prompting the LLM to use the examples we provide to get fine-tuned. Also, note that currently, as per the [OpenAI documentation](https://platform.openai.com/docs/guides/fine-tuning), fine-tuning for GPT-4 and GPT-4o through the Fine-tuning API is in an experimental access program and eligible users can request access in the fine-tuning UI when creating a new fine-tuning job. One can however fine-tune GPT-3.5 Turbo using the Fine-tuning API.\n",
        "\n",
        "The idea behind this work is to help get warmed up to using the OpenAI ChatGPT APIs for valid use cases one could think of working on."
      ],
      "metadata": {
        "id": "ajUT_gvsTaD5"
      },
      "id": "ajUT_gvsTaD5"
    },
    {
      "cell_type": "markdown",
      "source": [
        "### Getting Started"
      ],
      "metadata": {
        "id": "rxZVzzDPfUZR"
      },
      "id": "rxZVzzDPfUZR"
    },
    {
      "cell_type": "markdown",
      "id": "7ebe2e9d-685d-4ea3-ab7c-9589caaabff5",
      "metadata": {
        "id": "7ebe2e9d-685d-4ea3-ab7c-9589caaabff5"
      },
      "source": [
        "Install the relevant Python packages."
      ]
    },
    {
      "cell_type": "code",
      "source": [
        "!pip install openai\n",
        "!pip install python-dotenv\n",
        "!pip install ipywidgets"
      ],
      "metadata": {
        "colab": {
          "base_uri": "https://localhost:8080/"
        },
        "id": "vkAe0U2FKLnM",
        "outputId": "a599791e-324d-4066-a6fb-9c3535f08ca0"
      },
      "id": "vkAe0U2FKLnM",
      "execution_count": null,
      "outputs": [
        {
          "output_type": "stream",
          "name": "stdout",
          "text": [
            "Requirement already satisfied: openai in /usr/local/lib/python3.10/dist-packages (1.35.14)\n",
            "Requirement already satisfied: anyio<5,>=3.5.0 in /usr/local/lib/python3.10/dist-packages (from openai) (3.7.1)\n",
            "Requirement already satisfied: distro<2,>=1.7.0 in /usr/lib/python3/dist-packages (from openai) (1.7.0)\n",
            "Requirement already satisfied: httpx<1,>=0.23.0 in /usr/local/lib/python3.10/dist-packages (from openai) (0.27.0)\n",
            "Requirement already satisfied: pydantic<3,>=1.9.0 in /usr/local/lib/python3.10/dist-packages (from openai) (2.8.2)\n",
            "Requirement already satisfied: sniffio in /usr/local/lib/python3.10/dist-packages (from openai) (1.3.1)\n",
            "Requirement already satisfied: tqdm>4 in /usr/local/lib/python3.10/dist-packages (from openai) (4.66.4)\n",
            "Requirement already satisfied: typing-extensions<5,>=4.7 in /usr/local/lib/python3.10/dist-packages (from openai) (4.12.2)\n",
            "Requirement already satisfied: idna>=2.8 in /usr/local/lib/python3.10/dist-packages (from anyio<5,>=3.5.0->openai) (3.7)\n",
            "Requirement already satisfied: exceptiongroup in /usr/local/lib/python3.10/dist-packages (from anyio<5,>=3.5.0->openai) (1.2.1)\n",
            "Requirement already satisfied: certifi in /usr/local/lib/python3.10/dist-packages (from httpx<1,>=0.23.0->openai) (2024.7.4)\n",
            "Requirement already satisfied: httpcore==1.* in /usr/local/lib/python3.10/dist-packages (from httpx<1,>=0.23.0->openai) (1.0.5)\n",
            "Requirement already satisfied: h11<0.15,>=0.13 in /usr/local/lib/python3.10/dist-packages (from httpcore==1.*->httpx<1,>=0.23.0->openai) (0.14.0)\n",
            "Requirement already satisfied: annotated-types>=0.4.0 in /usr/local/lib/python3.10/dist-packages (from pydantic<3,>=1.9.0->openai) (0.7.0)\n",
            "Requirement already satisfied: pydantic-core==2.20.1 in /usr/local/lib/python3.10/dist-packages (from pydantic<3,>=1.9.0->openai) (2.20.1)\n",
            "Requirement already satisfied: python-dotenv in /usr/local/lib/python3.10/dist-packages (1.0.1)\n",
            "Requirement already satisfied: ipywidgets in /usr/local/lib/python3.10/dist-packages (7.7.1)\n",
            "Requirement already satisfied: ipykernel>=4.5.1 in /usr/local/lib/python3.10/dist-packages (from ipywidgets) (5.5.6)\n",
            "Requirement already satisfied: ipython-genutils~=0.2.0 in /usr/local/lib/python3.10/dist-packages (from ipywidgets) (0.2.0)\n",
            "Requirement already satisfied: traitlets>=4.3.1 in /usr/local/lib/python3.10/dist-packages (from ipywidgets) (5.7.1)\n",
            "Requirement already satisfied: widgetsnbextension~=3.6.0 in /usr/local/lib/python3.10/dist-packages (from ipywidgets) (3.6.7)\n",
            "Requirement already satisfied: ipython>=4.0.0 in /usr/local/lib/python3.10/dist-packages (from ipywidgets) (7.34.0)\n",
            "Requirement already satisfied: jupyterlab-widgets>=1.0.0 in /usr/local/lib/python3.10/dist-packages (from ipywidgets) (3.0.11)\n",
            "Requirement already satisfied: jupyter-client in /usr/local/lib/python3.10/dist-packages (from ipykernel>=4.5.1->ipywidgets) (6.1.12)\n",
            "Requirement already satisfied: tornado>=4.2 in /usr/local/lib/python3.10/dist-packages (from ipykernel>=4.5.1->ipywidgets) (6.3.3)\n",
            "Requirement already satisfied: setuptools>=18.5 in /usr/local/lib/python3.10/dist-packages (from ipython>=4.0.0->ipywidgets) (67.7.2)\n",
            "Requirement already satisfied: jedi>=0.16 in /usr/local/lib/python3.10/dist-packages (from ipython>=4.0.0->ipywidgets) (0.19.1)\n",
            "Requirement already satisfied: decorator in /usr/local/lib/python3.10/dist-packages (from ipython>=4.0.0->ipywidgets) (4.4.2)\n",
            "Requirement already satisfied: pickleshare in /usr/local/lib/python3.10/dist-packages (from ipython>=4.0.0->ipywidgets) (0.7.5)\n",
            "Requirement already satisfied: prompt-toolkit!=3.0.0,!=3.0.1,<3.1.0,>=2.0.0 in /usr/local/lib/python3.10/dist-packages (from ipython>=4.0.0->ipywidgets) (3.0.47)\n",
            "Requirement already satisfied: pygments in /usr/local/lib/python3.10/dist-packages (from ipython>=4.0.0->ipywidgets) (2.16.1)\n",
            "Requirement already satisfied: backcall in /usr/local/lib/python3.10/dist-packages (from ipython>=4.0.0->ipywidgets) (0.2.0)\n",
            "Requirement already satisfied: matplotlib-inline in /usr/local/lib/python3.10/dist-packages (from ipython>=4.0.0->ipywidgets) (0.1.7)\n",
            "Requirement already satisfied: pexpect>4.3 in /usr/local/lib/python3.10/dist-packages (from ipython>=4.0.0->ipywidgets) (4.9.0)\n",
            "Requirement already satisfied: notebook>=4.4.1 in /usr/local/lib/python3.10/dist-packages (from widgetsnbextension~=3.6.0->ipywidgets) (6.5.5)\n",
            "Requirement already satisfied: parso<0.9.0,>=0.8.3 in /usr/local/lib/python3.10/dist-packages (from jedi>=0.16->ipython>=4.0.0->ipywidgets) (0.8.4)\n",
            "Requirement already satisfied: jinja2 in /usr/local/lib/python3.10/dist-packages (from notebook>=4.4.1->widgetsnbextension~=3.6.0->ipywidgets) (3.1.4)\n",
            "Requirement already satisfied: pyzmq<25,>=17 in /usr/local/lib/python3.10/dist-packages (from notebook>=4.4.1->widgetsnbextension~=3.6.0->ipywidgets) (24.0.1)\n",
            "Requirement already satisfied: argon2-cffi in /usr/local/lib/python3.10/dist-packages (from notebook>=4.4.1->widgetsnbextension~=3.6.0->ipywidgets) (23.1.0)\n",
            "Requirement already satisfied: jupyter-core>=4.6.1 in /usr/local/lib/python3.10/dist-packages (from notebook>=4.4.1->widgetsnbextension~=3.6.0->ipywidgets) (5.7.2)\n",
            "Requirement already satisfied: nbformat in /usr/local/lib/python3.10/dist-packages (from notebook>=4.4.1->widgetsnbextension~=3.6.0->ipywidgets) (5.10.4)\n",
            "Requirement already satisfied: nbconvert>=5 in /usr/local/lib/python3.10/dist-packages (from notebook>=4.4.1->widgetsnbextension~=3.6.0->ipywidgets) (6.5.4)\n",
            "Requirement already satisfied: nest-asyncio>=1.5 in /usr/local/lib/python3.10/dist-packages (from notebook>=4.4.1->widgetsnbextension~=3.6.0->ipywidgets) (1.6.0)\n",
            "Requirement already satisfied: Send2Trash>=1.8.0 in /usr/local/lib/python3.10/dist-packages (from notebook>=4.4.1->widgetsnbextension~=3.6.0->ipywidgets) (1.8.3)\n",
            "Requirement already satisfied: terminado>=0.8.3 in /usr/local/lib/python3.10/dist-packages (from notebook>=4.4.1->widgetsnbextension~=3.6.0->ipywidgets) (0.18.1)\n",
            "Requirement already satisfied: prometheus-client in /usr/local/lib/python3.10/dist-packages (from notebook>=4.4.1->widgetsnbextension~=3.6.0->ipywidgets) (0.20.0)\n",
            "Requirement already satisfied: nbclassic>=0.4.7 in /usr/local/lib/python3.10/dist-packages (from notebook>=4.4.1->widgetsnbextension~=3.6.0->ipywidgets) (1.1.0)\n",
            "Requirement already satisfied: python-dateutil>=2.1 in /usr/local/lib/python3.10/dist-packages (from jupyter-client->ipykernel>=4.5.1->ipywidgets) (2.8.2)\n",
            "Requirement already satisfied: ptyprocess>=0.5 in /usr/local/lib/python3.10/dist-packages (from pexpect>4.3->ipython>=4.0.0->ipywidgets) (0.7.0)\n",
            "Requirement already satisfied: wcwidth in /usr/local/lib/python3.10/dist-packages (from prompt-toolkit!=3.0.0,!=3.0.1,<3.1.0,>=2.0.0->ipython>=4.0.0->ipywidgets) (0.2.13)\n",
            "Requirement already satisfied: platformdirs>=2.5 in /usr/local/lib/python3.10/dist-packages (from jupyter-core>=4.6.1->notebook>=4.4.1->widgetsnbextension~=3.6.0->ipywidgets) (4.2.2)\n",
            "Requirement already satisfied: notebook-shim>=0.2.3 in /usr/local/lib/python3.10/dist-packages (from nbclassic>=0.4.7->notebook>=4.4.1->widgetsnbextension~=3.6.0->ipywidgets) (0.2.4)\n",
            "Requirement already satisfied: lxml in /usr/local/lib/python3.10/dist-packages (from nbconvert>=5->notebook>=4.4.1->widgetsnbextension~=3.6.0->ipywidgets) (4.9.4)\n",
            "Requirement already satisfied: beautifulsoup4 in /usr/local/lib/python3.10/dist-packages (from nbconvert>=5->notebook>=4.4.1->widgetsnbextension~=3.6.0->ipywidgets) (4.12.3)\n",
            "Requirement already satisfied: bleach in /usr/local/lib/python3.10/dist-packages (from nbconvert>=5->notebook>=4.4.1->widgetsnbextension~=3.6.0->ipywidgets) (6.1.0)\n",
            "Requirement already satisfied: defusedxml in /usr/local/lib/python3.10/dist-packages (from nbconvert>=5->notebook>=4.4.1->widgetsnbextension~=3.6.0->ipywidgets) (0.7.1)\n",
            "Requirement already satisfied: entrypoints>=0.2.2 in /usr/local/lib/python3.10/dist-packages (from nbconvert>=5->notebook>=4.4.1->widgetsnbextension~=3.6.0->ipywidgets) (0.4)\n",
            "Requirement already satisfied: jupyterlab-pygments in /usr/local/lib/python3.10/dist-packages (from nbconvert>=5->notebook>=4.4.1->widgetsnbextension~=3.6.0->ipywidgets) (0.3.0)\n",
            "Requirement already satisfied: MarkupSafe>=2.0 in /usr/local/lib/python3.10/dist-packages (from nbconvert>=5->notebook>=4.4.1->widgetsnbextension~=3.6.0->ipywidgets) (2.1.5)\n",
            "Requirement already satisfied: mistune<2,>=0.8.1 in /usr/local/lib/python3.10/dist-packages (from nbconvert>=5->notebook>=4.4.1->widgetsnbextension~=3.6.0->ipywidgets) (0.8.4)\n",
            "Requirement already satisfied: nbclient>=0.5.0 in /usr/local/lib/python3.10/dist-packages (from nbconvert>=5->notebook>=4.4.1->widgetsnbextension~=3.6.0->ipywidgets) (0.10.0)\n",
            "Requirement already satisfied: packaging in /usr/local/lib/python3.10/dist-packages (from nbconvert>=5->notebook>=4.4.1->widgetsnbextension~=3.6.0->ipywidgets) (24.1)\n",
            "Requirement already satisfied: pandocfilters>=1.4.1 in /usr/local/lib/python3.10/dist-packages (from nbconvert>=5->notebook>=4.4.1->widgetsnbextension~=3.6.0->ipywidgets) (1.5.1)\n",
            "Requirement already satisfied: tinycss2 in /usr/local/lib/python3.10/dist-packages (from nbconvert>=5->notebook>=4.4.1->widgetsnbextension~=3.6.0->ipywidgets) (1.3.0)\n",
            "Requirement already satisfied: fastjsonschema>=2.15 in /usr/local/lib/python3.10/dist-packages (from nbformat->notebook>=4.4.1->widgetsnbextension~=3.6.0->ipywidgets) (2.20.0)\n",
            "Requirement already satisfied: jsonschema>=2.6 in /usr/local/lib/python3.10/dist-packages (from nbformat->notebook>=4.4.1->widgetsnbextension~=3.6.0->ipywidgets) (4.19.2)\n",
            "Requirement already satisfied: six>=1.5 in /usr/local/lib/python3.10/dist-packages (from python-dateutil>=2.1->jupyter-client->ipykernel>=4.5.1->ipywidgets) (1.16.0)\n",
            "Requirement already satisfied: argon2-cffi-bindings in /usr/local/lib/python3.10/dist-packages (from argon2-cffi->notebook>=4.4.1->widgetsnbextension~=3.6.0->ipywidgets) (21.2.0)\n",
            "Requirement already satisfied: attrs>=22.2.0 in /usr/local/lib/python3.10/dist-packages (from jsonschema>=2.6->nbformat->notebook>=4.4.1->widgetsnbextension~=3.6.0->ipywidgets) (23.2.0)\n",
            "Requirement already satisfied: jsonschema-specifications>=2023.03.6 in /usr/local/lib/python3.10/dist-packages (from jsonschema>=2.6->nbformat->notebook>=4.4.1->widgetsnbextension~=3.6.0->ipywidgets) (2023.12.1)\n",
            "Requirement already satisfied: referencing>=0.28.4 in /usr/local/lib/python3.10/dist-packages (from jsonschema>=2.6->nbformat->notebook>=4.4.1->widgetsnbextension~=3.6.0->ipywidgets) (0.35.1)\n",
            "Requirement already satisfied: rpds-py>=0.7.1 in /usr/local/lib/python3.10/dist-packages (from jsonschema>=2.6->nbformat->notebook>=4.4.1->widgetsnbextension~=3.6.0->ipywidgets) (0.19.0)\n",
            "Requirement already satisfied: jupyter-server<3,>=1.8 in /usr/local/lib/python3.10/dist-packages (from notebook-shim>=0.2.3->nbclassic>=0.4.7->notebook>=4.4.1->widgetsnbextension~=3.6.0->ipywidgets) (1.24.0)\n",
            "Requirement already satisfied: cffi>=1.0.1 in /usr/local/lib/python3.10/dist-packages (from argon2-cffi-bindings->argon2-cffi->notebook>=4.4.1->widgetsnbextension~=3.6.0->ipywidgets) (1.16.0)\n",
            "Requirement already satisfied: soupsieve>1.2 in /usr/local/lib/python3.10/dist-packages (from beautifulsoup4->nbconvert>=5->notebook>=4.4.1->widgetsnbextension~=3.6.0->ipywidgets) (2.5)\n",
            "Requirement already satisfied: webencodings in /usr/local/lib/python3.10/dist-packages (from bleach->nbconvert>=5->notebook>=4.4.1->widgetsnbextension~=3.6.0->ipywidgets) (0.5.1)\n",
            "Requirement already satisfied: pycparser in /usr/local/lib/python3.10/dist-packages (from cffi>=1.0.1->argon2-cffi-bindings->argon2-cffi->notebook>=4.4.1->widgetsnbextension~=3.6.0->ipywidgets) (2.22)\n",
            "Requirement already satisfied: anyio<4,>=3.1.0 in /usr/local/lib/python3.10/dist-packages (from jupyter-server<3,>=1.8->notebook-shim>=0.2.3->nbclassic>=0.4.7->notebook>=4.4.1->widgetsnbextension~=3.6.0->ipywidgets) (3.7.1)\n",
            "Requirement already satisfied: websocket-client in /usr/local/lib/python3.10/dist-packages (from jupyter-server<3,>=1.8->notebook-shim>=0.2.3->nbclassic>=0.4.7->notebook>=4.4.1->widgetsnbextension~=3.6.0->ipywidgets) (1.8.0)\n",
            "Requirement already satisfied: idna>=2.8 in /usr/local/lib/python3.10/dist-packages (from anyio<4,>=3.1.0->jupyter-server<3,>=1.8->notebook-shim>=0.2.3->nbclassic>=0.4.7->notebook>=4.4.1->widgetsnbextension~=3.6.0->ipywidgets) (3.7)\n",
            "Requirement already satisfied: sniffio>=1.1 in /usr/local/lib/python3.10/dist-packages (from anyio<4,>=3.1.0->jupyter-server<3,>=1.8->notebook-shim>=0.2.3->nbclassic>=0.4.7->notebook>=4.4.1->widgetsnbextension~=3.6.0->ipywidgets) (1.3.1)\n",
            "Requirement already satisfied: exceptiongroup in /usr/local/lib/python3.10/dist-packages (from anyio<4,>=3.1.0->jupyter-server<3,>=1.8->notebook-shim>=0.2.3->nbclassic>=0.4.7->notebook>=4.4.1->widgetsnbextension~=3.6.0->ipywidgets) (1.2.1)\n"
          ]
        }
      ]
    },
    {
      "cell_type": "markdown",
      "id": "00bab499-9a50-4bd0-a622-1c914c6ccc29",
      "metadata": {
        "id": "00bab499-9a50-4bd0-a622-1c914c6ccc29"
      },
      "source": [
        "Load the relevant Python libaries."
      ]
    },
    {
      "cell_type": "code",
      "execution_count": null,
      "id": "6c382975",
      "metadata": {
        "height": 132,
        "tags": [],
        "id": "6c382975"
      },
      "outputs": [],
      "source": [
        "import openai\n",
        "import os\n",
        "import csv\n",
        "import random\n",
        "import ipywidgets as widgets\n",
        "from dotenv import load_dotenv, find_dotenv\n",
        "from google.colab import files, drive\n",
        "from IPython.display import display, clear_output"
      ]
    },
    {
      "cell_type": "markdown",
      "source": [
        "We need to have the OpenAI API key for using the APIs offered by OpenAI. Load the OpenAI API key from the .env file. This is a secure way of using the API key without exposing it through code. We also need to ensure that the OpenAI API key is added to the .env file for the OS to read it and use it for our application.\n",
        "```\n",
        "OPENAI_API_KEY = your-OpenAI-api-key\n",
        "```\n",
        "One can upload the .env file directly into the '/content' folder in Colab or use the following code to upload and load the file."
      ],
      "metadata": {
        "id": "4PczU_h2NbXj"
      },
      "id": "4PczU_h2NbXj"
    },
    {
      "cell_type": "markdown",
      "source": [
        "```\n",
        "files.upload()\n",
        "load_dotenv('/content/.env')\n",
        "```"
      ],
      "metadata": {
        "id": "qAlwYtF4TowU"
      },
      "id": "qAlwYtF4TowU"
    },
    {
      "cell_type": "code",
      "source": [
        "_ = load_dotenv(find_dotenv())\n",
        "\n",
        "openai.api_key  = os.getenv('OPENAI_API_KEY')"
      ],
      "metadata": {
        "id": "PvRCe4hrNBPr"
      },
      "id": "PvRCe4hrNBPr",
      "execution_count": null,
      "outputs": []
    },
    {
      "cell_type": "markdown",
      "source": [
        "### The Fine-tuning Data"
      ],
      "metadata": {
        "id": "pbVGL7kgffE_"
      },
      "id": "pbVGL7kgffE_"
    },
    {
      "cell_type": "markdown",
      "source": [
        "Import the dataset from Google Drive. We will use the [Bn-EN PMIndia Parallel Corpus](https://data.statmt.org/pmindia/v1/parallel/) data for fine-tuning GPT-4o. Of course, we could have picked an earlier version of GPT that is still available as well, but we will pick GPT-4o since it is the latest model to be released by OpenAI."
      ],
      "metadata": {
        "id": "4Cnk0QB8N9xc"
      },
      "id": "4Cnk0QB8N9xc"
    },
    {
      "cell_type": "code",
      "source": [
        "# Import the dataset from Google Drive.\n",
        "drive.mount('/content/drive')\n",
        "\n",
        "input_file = '/content/drive/MyDrive/Datasets/pmindia.v1.bn-en.tsv'\n",
        "cleaned_file = '/content/drive/MyDrive/Datasets/Cleaned/pmindia.v1.bn-en_cleaned.tsv'"
      ],
      "metadata": {
        "colab": {
          "base_uri": "https://localhost:8080/"
        },
        "id": "-qZUrrPKgarw",
        "outputId": "40672eda-ad9d-4829-cff6-5afe319dccc8"
      },
      "id": "-qZUrrPKgarw",
      "execution_count": null,
      "outputs": [
        {
          "output_type": "stream",
          "name": "stdout",
          "text": [
            "Drive already mounted at /content/drive; to attempt to forcibly remount, call drive.mount(\"/content/drive\", force_remount=True).\n"
          ]
        }
      ]
    },
    {
      "cell_type": "markdown",
      "source": [
        "### Helper Functions"
      ],
      "metadata": {
        "id": "J-w8s3Y0fueo"
      },
      "id": "J-w8s3Y0fueo"
    },
    {
      "cell_type": "markdown",
      "source": [
        "To ensure there aren't any duplicate examples (English-Bengali translation pairs) in the fine-tuning data, we will use the remove_duplicates function to remove the duplicates from the dataset and copy the set of unique examples into a new file for further use. The English-Bengali PMIndia corpus dataset does not have duplicate examples, but most translation corpus / datasets do, and it is always a good idea to run a check for duplicate data. However, like I mentioned, checking for duplicate data for this particular dataset and application is optional.\n",
        "\n",
        "Note that the dataset is a TSV file and we will use the tab character as the delimiter to read the file."
      ],
      "metadata": {
        "id": "MDdNK0NkU3YP"
      },
      "id": "MDdNK0NkU3YP"
    },
    {
      "cell_type": "code",
      "source": [
        "# Remove duplicate examples from the dataset, if any.\n",
        "def remove_duplicates(input_file, output_file):\n",
        "    # Read the dataset - a TSV file.\n",
        "    with open(input_file, 'r', newline='', encoding='utf-8') as infile:\n",
        "        reader = csv.reader(infile, delimiter='\\t')\n",
        "        unique_lines = set(tuple(line) for line in reader)\n",
        "\n",
        "    # Write the unique lines to a new TSV file.\n",
        "    with open(cleaned_file, 'w', newline='', encoding='utf-8') as outfile:\n",
        "        writer = csv.writer(outfile, delimiter='\\t')\n",
        "        for line in unique_lines:\n",
        "            writer.writerow(line)\n",
        "\n",
        "remove_duplicates(input_file, cleaned_file)"
      ],
      "metadata": {
        "id": "O188yFVwgyk2"
      },
      "id": "O188yFVwgyk2",
      "execution_count": null,
      "outputs": []
    },
    {
      "cell_type": "markdown",
      "source": [
        "We will now define the number of examples that we will use for fine-tuning the LLM. Ideally, the more the merrier. 1000 should be a decent number. I am going to use 100 for illustration purposes.\n",
        "\n",
        "Additionally, we need to ensure that we have enough credits in our OpenAI account for using the [OpenAI Chat Completions API](https://platform.openai.com/docs/guides/chat-completions). In general, apart from our fine-tuning use-case (e.g., for processing chat prompts using an OpenAI LLM, moderation of chat prompts, image generation, etc.), it is a good idea to top the account up with maybe \\$10 or \\$20 to ensure we have enough credit balance to experiment with the ChatGPT APIs. The Chat Completions API will issue an error message if there isn't enough credit balance to process a request.\n",
        "\n",
        "Fine-tuning with 100 examples will not be costly. However, one must understand that the costs can go up with more examples, as we require more of OpenAI's services. Precisely, the cost is based on the number of tokens processed. The [OpenAI Pricing page](https://https://openai.com/api/pricing/) provides with more information on the costs incurred when using their models.\n",
        "\n",
        "Coming back to the point, we will use 100 examples to fine-tune gpt-4o. We will prompt the model to look at those examples and try and learn from them. Before that, we will select 100 examples randomly from our cleaned dataset and put those into a new file, from where the LLM would read through the examples for fine-tuning. The following functions achieves the same."
      ],
      "metadata": {
        "id": "necb6ILSVyHT"
      },
      "id": "necb6ILSVyHT"
    },
    {
      "cell_type": "code",
      "source": [
        "# Randomly select 100 examples from the cleaned file and put those into a new file.\n",
        "def select_random_examples(input_file, output_file, num_examples=100):\n",
        "    # Read all examples from the cleaned dataset TSV file.\n",
        "    with open(input_file, 'r', newline='', encoding='utf-8') as infile:\n",
        "        reader = list(csv.reader(infile, delimiter='\\t'))\n",
        "\n",
        "        # Check if the file has fewer examples than the number to select.\n",
        "        if len(reader) <= num_examples:\n",
        "            raise ValueError(\"The file has fewer examples than the number requested.\")\n",
        "\n",
        "        # Randomly select examples.\n",
        "        selected_examples = random.sample(reader, num_examples)\n",
        "\n",
        "    # Write the selected lines / examples to a new TSV file.\n",
        "    with open(output_file, 'w', newline='', encoding='utf-8') as outfile:\n",
        "        writer = csv.writer(outfile, delimiter='\\t')\n",
        "        writer.writerows(selected_examples)\n",
        "\n",
        "# Path to the TSV file in Google Drive.\n",
        "output_file = '/content/drive/MyDrive/Datasets/Cleaned/pmindia.v1.bn-en_random.tsv'  # Change to your desired output path.\n",
        "\n",
        "# Select 100 random examples.\n",
        "select_random_examples(cleaned_file, output_file)"
      ],
      "metadata": {
        "id": "lXYM_fZ_e-ZM"
      },
      "id": "lXYM_fZ_e-ZM",
      "execution_count": null,
      "outputs": []
    },
    {
      "cell_type": "markdown",
      "source": [
        "We will use the following function in our prompt to specify that the LLM has to read through the examples in the \"output_file\" and use that knowledge when prompted to translate English to Bengali."
      ],
      "metadata": {
        "id": "4jB23CBo779-"
      },
      "id": "4jB23CBo779-"
    },
    {
      "cell_type": "code",
      "source": [
        "# Read the randomly selected examples.\n",
        "def read_examples(file_path):\n",
        "    with open(file_path, 'r', encoding='utf-8') as file:\n",
        "        content = file.read()\n",
        "    return content\n",
        "\n",
        "# Read the file content.\n",
        "train_examples = read_examples(output_file)"
      ],
      "metadata": {
        "id": "YCjel1zluk1S"
      },
      "id": "YCjel1zluk1S",
      "execution_count": null,
      "outputs": []
    },
    {
      "cell_type": "markdown",
      "source": [
        "### Using the LLM - GPT-4o"
      ],
      "metadata": {
        "id": "4zxzC7Jaf8BP"
      },
      "id": "4zxzC7Jaf8BP"
    },
    {
      "cell_type": "markdown",
      "source": [
        "We will use the system prompt (a role, just like the user input / prompt will correspond to the *user* role) to help the LLM with any context it needs to be aware of. The system prompt will instruct the LLM to learn from the examples we will use for fine-tuning, translate the English text into Bengali, and handle any failure cases gracefully.\n",
        "\n",
        "We will use a delimiter to make it easier for the LLM to understand the user's prompt, which would be the English text to be translated into Bengali."
      ],
      "metadata": {
        "id": "p8NryMO3CqtA"
      },
      "id": "p8NryMO3CqtA"
    },
    {
      "cell_type": "code",
      "source": [
        "# Delimiter to use for our prompts.\n",
        "delimiter = \"####\"\n",
        "\n",
        "# Specify the role of the LLM and prompt it to\n",
        "# use the fine-tuning examples to make the\n",
        "# predictions.\n",
        "system_message = f\"\"\"\n",
        "You are a translation chatbot responsible for \\\n",
        "translating English text into Bengali. \\\n",
        "The user will provide the English text to \\\n",
        "be translated into Bengali, \\\n",
        "delimited with {delimiter} characters. \\\n",
        "You will perform this in three steps. \\\n",
        "\n",
        "Step 1: Study the examples of English-to-Bengali \\\n",
        "translation from the following file. \\\n",
        "\\n{train_examples}\\n\\n \\\n",
        "\n",
        "Step 2: Use your own knowledge and the additional \\\n",
        "insights from <Step 1> to translate the English \\\n",
        "text provided by the user to Bengali. If you don't \\\n",
        "know the translation, return the message \"Oops! \\\n",
        "I am not sure about the translation for this query. \\\n",
        "Please try a different text to translate.\" \\\n",
        "\"\"\""
      ],
      "metadata": {
        "id": "ZKr-5fB7z9Iu"
      },
      "id": "ZKr-5fB7z9Iu",
      "execution_count": null,
      "outputs": []
    },
    {
      "cell_type": "markdown",
      "source": [
        "Translate English to Bengali using OpenAI's *gpt-4o*. *max_tokens=100* limits the numbert of response tokens to 100, while a *temperature* of 0 ensures there is no randomness to the responsed from the LLM. *messages* represents the combined system and user prompts that would be provided to the LLM for it to generate a response."
      ],
      "metadata": {
        "id": "VwZSqIWg9YnO"
      },
      "id": "VwZSqIWg9YnO"
    },
    {
      "cell_type": "code",
      "execution_count": null,
      "id": "a7dff174",
      "metadata": {
        "height": 149,
        "tags": [],
        "id": "a7dff174"
      },
      "outputs": [],
      "source": [
        "client = openai.OpenAI(api_key=openai.api_key)\n",
        "\n",
        "# Translate English to Bengali using OpenAI's gpt-4o.\n",
        "def translate_english_to_bengali(prompt, messages, model=\"gpt-4o\"):\n",
        "    response = client.chat.completions.create(\n",
        "        model=model,\n",
        "        messages=messages,\n",
        "        max_tokens=100,\n",
        "        temperature=0\n",
        "    )\n",
        "    translation = response.choices[0].message.content\n",
        "    return translation"
      ]
    },
    {
      "cell_type": "markdown",
      "source": [
        "We will now create a simple UI to handle the user input and translation."
      ],
      "metadata": {
        "id": "yuOeeAr5KeJl"
      },
      "id": "yuOeeAr5KeJl"
    },
    {
      "cell_type": "markdown",
      "source": [
        "# The Translation UI"
      ],
      "metadata": {
        "id": "aXDyu3iYgHKi"
      },
      "id": "aXDyu3iYgHKi"
    },
    {
      "cell_type": "markdown",
      "source": [
        "We will implement a very basic UI comprising of widgets in order to accept the user input in English and return a translated response in Bengali."
      ],
      "metadata": {
        "id": "J4vGxPD7UnHZ"
      },
      "id": "J4vGxPD7UnHZ"
    },
    {
      "cell_type": "code",
      "source": [
        "# Create the UI elements.\n",
        "text_prompt = widgets.Label(\"Enter the English text to translate\")\n",
        "text_input = widgets.Text(placeholder='Enter English text here')\n",
        "translate_button = widgets.Button(description=\"Translate\")\n",
        "output_label = widgets.Label(\"\")"
      ],
      "metadata": {
        "id": "W05AGApZKPFr"
      },
      "id": "W05AGApZKPFr",
      "execution_count": null,
      "outputs": []
    },
    {
      "cell_type": "markdown",
      "source": [
        "We will now implement the functionality of the button responsible for generating the translation.\n",
        "\n",
        "We will first get the English input (the prompt for the LLM) from the user and the *Translate* button will cause the LLM to initiate the English-to-Bengali translation. The UI will then display the response from the LLM, i.e., the translated Bengali text."
      ],
      "metadata": {
        "id": "N-CqvpEnKmS8"
      },
      "id": "N-CqvpEnKmS8"
    },
    {
      "cell_type": "code",
      "source": [
        "# Define the function to handle button click.\n",
        "def on_translate_button_clicked(b):\n",
        "    clear_output(wait=True)\n",
        "    display(text_prompt, text_input, translate_button, output_label)\n",
        "    english_text = text_input.value\n",
        "\n",
        "    prompt = f\"\"\"\n",
        "    {english_text}\n",
        "    \"\"\"\n",
        "    # Messages to send to the model.\n",
        "    messages =  [\n",
        "    {'role':'system',\n",
        "     'content': system_message},\n",
        "    {'role':'user',\n",
        "     'content': f\"{delimiter}{prompt}{delimiter}\"},\n",
        "]\n",
        "    if english_text:\n",
        "        translation = translate_english_to_bengali(prompt, messages)\n",
        "        output_label.value = f\"Translated Bengali Text: {translation}\"\n",
        "    else:\n",
        "        # Handle a blank input / prompt.\n",
        "        output_label.value = \"Please enter some text to translate.\"\n",
        "\n",
        "# Attach the function to the button click event.\n",
        "translate_button.on_click(on_translate_button_clicked)\n",
        "\n",
        "# Display the UI.\n",
        "display(text_prompt, text_input, translate_button, output_label)"
      ],
      "metadata": {
        "colab": {
          "base_uri": "https://localhost:8080/",
          "height": 143,
          "referenced_widgets": [
            "93613be04944419bac88c80d47d768a9",
            "33eecfa5df4f4af7af6f055622b3131e",
            "8a4aba4ea2e84c31a06c478f3b9c523a",
            "c4482dcbe23a4651b837d0fd2cea90a2",
            "a2a5202ebe1f41bca17f887d94fc333b",
            "6dd4562c18f14926ac7366417308822f",
            "1300a9980c6846a5bceb91432a8478dd",
            "a0c9db075dc84b708503ffba401e76df",
            "901e7e2ab910407289602e85e0719743",
            "97867d81ba164bc2aa8178d377047325",
            "5b190b70fdad4ed3af70777ffcd304b5",
            "d0b1e06a64954e1698a566fb68f033e6"
          ]
        },
        "id": "bLh7Kj40OVQj",
        "outputId": "c5c06cc7-6d3e-4291-e623-4a00f0dc5ba4"
      },
      "id": "bLh7Kj40OVQj",
      "execution_count": null,
      "outputs": [
        {
          "output_type": "display_data",
          "data": {
            "text/plain": [
              "Label(value='Enter the English text to translate')"
            ],
            "application/vnd.jupyter.widget-view+json": {
              "version_major": 2,
              "version_minor": 0,
              "model_id": "93613be04944419bac88c80d47d768a9"
            }
          },
          "metadata": {}
        },
        {
          "output_type": "display_data",
          "data": {
            "text/plain": [
              "Text(value='How is it going for you?', placeholder='Enter English text here')"
            ],
            "application/vnd.jupyter.widget-view+json": {
              "version_major": 2,
              "version_minor": 0,
              "model_id": "c4482dcbe23a4651b837d0fd2cea90a2"
            }
          },
          "metadata": {}
        },
        {
          "output_type": "display_data",
          "data": {
            "text/plain": [
              "Button(description='Translate', style=ButtonStyle())"
            ],
            "application/vnd.jupyter.widget-view+json": {
              "version_major": 2,
              "version_minor": 0,
              "model_id": "1300a9980c6846a5bceb91432a8478dd"
            }
          },
          "metadata": {}
        },
        {
          "output_type": "display_data",
          "data": {
            "text/plain": [
              "Label(value='')"
            ],
            "application/vnd.jupyter.widget-view+json": {
              "version_major": 2,
              "version_minor": 0,
              "model_id": "97867d81ba164bc2aa8178d377047325"
            }
          },
          "metadata": {}
        }
      ]
    }
  ],
  "metadata": {
    "kernelspec": {
      "display_name": "Python 3 (ipykernel)",
      "language": "python",
      "name": "python3"
    },
    "language_info": {
      "codemirror_mode": {
        "name": "ipython",
        "version": 3
      },
      "file_extension": ".py",
      "mimetype": "text/x-python",
      "name": "python",
      "nbconvert_exporter": "python",
      "pygments_lexer": "ipython3",
      "version": "3.9.19"
    },
    "colab": {
      "provenance": [],
      "include_colab_link": true
    },
    "widgets": {
      "application/vnd.jupyter.widget-state+json": {
        "93613be04944419bac88c80d47d768a9": {
          "model_module": "@jupyter-widgets/controls",
          "model_name": "LabelModel",
          "model_module_version": "1.5.0",
          "state": {
            "_dom_classes": [],
            "_model_module": "@jupyter-widgets/controls",
            "_model_module_version": "1.5.0",
            "_model_name": "LabelModel",
            "_view_count": null,
            "_view_module": "@jupyter-widgets/controls",
            "_view_module_version": "1.5.0",
            "_view_name": "LabelView",
            "description": "",
            "description_tooltip": null,
            "layout": "IPY_MODEL_33eecfa5df4f4af7af6f055622b3131e",
            "placeholder": "​",
            "style": "IPY_MODEL_8a4aba4ea2e84c31a06c478f3b9c523a",
            "value": "Enter the English text to translate"
          }
        },
        "33eecfa5df4f4af7af6f055622b3131e": {
          "model_module": "@jupyter-widgets/base",
          "model_name": "LayoutModel",
          "model_module_version": "1.2.0",
          "state": {
            "_model_module": "@jupyter-widgets/base",
            "_model_module_version": "1.2.0",
            "_model_name": "LayoutModel",
            "_view_count": null,
            "_view_module": "@jupyter-widgets/base",
            "_view_module_version": "1.2.0",
            "_view_name": "LayoutView",
            "align_content": null,
            "align_items": null,
            "align_self": null,
            "border": null,
            "bottom": null,
            "display": null,
            "flex": null,
            "flex_flow": null,
            "grid_area": null,
            "grid_auto_columns": null,
            "grid_auto_flow": null,
            "grid_auto_rows": null,
            "grid_column": null,
            "grid_gap": null,
            "grid_row": null,
            "grid_template_areas": null,
            "grid_template_columns": null,
            "grid_template_rows": null,
            "height": null,
            "justify_content": null,
            "justify_items": null,
            "left": null,
            "margin": null,
            "max_height": null,
            "max_width": null,
            "min_height": null,
            "min_width": null,
            "object_fit": null,
            "object_position": null,
            "order": null,
            "overflow": null,
            "overflow_x": null,
            "overflow_y": null,
            "padding": null,
            "right": null,
            "top": null,
            "visibility": null,
            "width": null
          }
        },
        "8a4aba4ea2e84c31a06c478f3b9c523a": {
          "model_module": "@jupyter-widgets/controls",
          "model_name": "DescriptionStyleModel",
          "model_module_version": "1.5.0",
          "state": {
            "_model_module": "@jupyter-widgets/controls",
            "_model_module_version": "1.5.0",
            "_model_name": "DescriptionStyleModel",
            "_view_count": null,
            "_view_module": "@jupyter-widgets/base",
            "_view_module_version": "1.2.0",
            "_view_name": "StyleView",
            "description_width": ""
          }
        },
        "c4482dcbe23a4651b837d0fd2cea90a2": {
          "model_module": "@jupyter-widgets/controls",
          "model_name": "TextModel",
          "model_module_version": "1.5.0",
          "state": {
            "_dom_classes": [],
            "_model_module": "@jupyter-widgets/controls",
            "_model_module_version": "1.5.0",
            "_model_name": "TextModel",
            "_view_count": null,
            "_view_module": "@jupyter-widgets/controls",
            "_view_module_version": "1.5.0",
            "_view_name": "TextView",
            "continuous_update": true,
            "description": "",
            "description_tooltip": null,
            "disabled": false,
            "layout": "IPY_MODEL_a2a5202ebe1f41bca17f887d94fc333b",
            "placeholder": "Enter English text here",
            "style": "IPY_MODEL_6dd4562c18f14926ac7366417308822f",
            "value": "How is it going for you?"
          }
        },
        "a2a5202ebe1f41bca17f887d94fc333b": {
          "model_module": "@jupyter-widgets/base",
          "model_name": "LayoutModel",
          "model_module_version": "1.2.0",
          "state": {
            "_model_module": "@jupyter-widgets/base",
            "_model_module_version": "1.2.0",
            "_model_name": "LayoutModel",
            "_view_count": null,
            "_view_module": "@jupyter-widgets/base",
            "_view_module_version": "1.2.0",
            "_view_name": "LayoutView",
            "align_content": null,
            "align_items": null,
            "align_self": null,
            "border": null,
            "bottom": null,
            "display": null,
            "flex": null,
            "flex_flow": null,
            "grid_area": null,
            "grid_auto_columns": null,
            "grid_auto_flow": null,
            "grid_auto_rows": null,
            "grid_column": null,
            "grid_gap": null,
            "grid_row": null,
            "grid_template_areas": null,
            "grid_template_columns": null,
            "grid_template_rows": null,
            "height": null,
            "justify_content": null,
            "justify_items": null,
            "left": null,
            "margin": null,
            "max_height": null,
            "max_width": null,
            "min_height": null,
            "min_width": null,
            "object_fit": null,
            "object_position": null,
            "order": null,
            "overflow": null,
            "overflow_x": null,
            "overflow_y": null,
            "padding": null,
            "right": null,
            "top": null,
            "visibility": null,
            "width": null
          }
        },
        "6dd4562c18f14926ac7366417308822f": {
          "model_module": "@jupyter-widgets/controls",
          "model_name": "DescriptionStyleModel",
          "model_module_version": "1.5.0",
          "state": {
            "_model_module": "@jupyter-widgets/controls",
            "_model_module_version": "1.5.0",
            "_model_name": "DescriptionStyleModel",
            "_view_count": null,
            "_view_module": "@jupyter-widgets/base",
            "_view_module_version": "1.2.0",
            "_view_name": "StyleView",
            "description_width": ""
          }
        },
        "1300a9980c6846a5bceb91432a8478dd": {
          "model_module": "@jupyter-widgets/controls",
          "model_name": "ButtonModel",
          "model_module_version": "1.5.0",
          "state": {
            "_dom_classes": [],
            "_model_module": "@jupyter-widgets/controls",
            "_model_module_version": "1.5.0",
            "_model_name": "ButtonModel",
            "_view_count": null,
            "_view_module": "@jupyter-widgets/controls",
            "_view_module_version": "1.5.0",
            "_view_name": "ButtonView",
            "button_style": "",
            "description": "Translate",
            "disabled": false,
            "icon": "",
            "layout": "IPY_MODEL_a0c9db075dc84b708503ffba401e76df",
            "style": "IPY_MODEL_901e7e2ab910407289602e85e0719743",
            "tooltip": ""
          }
        },
        "a0c9db075dc84b708503ffba401e76df": {
          "model_module": "@jupyter-widgets/base",
          "model_name": "LayoutModel",
          "model_module_version": "1.2.0",
          "state": {
            "_model_module": "@jupyter-widgets/base",
            "_model_module_version": "1.2.0",
            "_model_name": "LayoutModel",
            "_view_count": null,
            "_view_module": "@jupyter-widgets/base",
            "_view_module_version": "1.2.0",
            "_view_name": "LayoutView",
            "align_content": null,
            "align_items": null,
            "align_self": null,
            "border": null,
            "bottom": null,
            "display": null,
            "flex": null,
            "flex_flow": null,
            "grid_area": null,
            "grid_auto_columns": null,
            "grid_auto_flow": null,
            "grid_auto_rows": null,
            "grid_column": null,
            "grid_gap": null,
            "grid_row": null,
            "grid_template_areas": null,
            "grid_template_columns": null,
            "grid_template_rows": null,
            "height": null,
            "justify_content": null,
            "justify_items": null,
            "left": null,
            "margin": null,
            "max_height": null,
            "max_width": null,
            "min_height": null,
            "min_width": null,
            "object_fit": null,
            "object_position": null,
            "order": null,
            "overflow": null,
            "overflow_x": null,
            "overflow_y": null,
            "padding": null,
            "right": null,
            "top": null,
            "visibility": null,
            "width": null
          }
        },
        "901e7e2ab910407289602e85e0719743": {
          "model_module": "@jupyter-widgets/controls",
          "model_name": "ButtonStyleModel",
          "model_module_version": "1.5.0",
          "state": {
            "_model_module": "@jupyter-widgets/controls",
            "_model_module_version": "1.5.0",
            "_model_name": "ButtonStyleModel",
            "_view_count": null,
            "_view_module": "@jupyter-widgets/base",
            "_view_module_version": "1.2.0",
            "_view_name": "StyleView",
            "button_color": null,
            "font_weight": ""
          }
        },
        "97867d81ba164bc2aa8178d377047325": {
          "model_module": "@jupyter-widgets/controls",
          "model_name": "LabelModel",
          "model_module_version": "1.5.0",
          "state": {
            "_dom_classes": [],
            "_model_module": "@jupyter-widgets/controls",
            "_model_module_version": "1.5.0",
            "_model_name": "LabelModel",
            "_view_count": null,
            "_view_module": "@jupyter-widgets/controls",
            "_view_module_version": "1.5.0",
            "_view_name": "LabelView",
            "description": "",
            "description_tooltip": null,
            "layout": "IPY_MODEL_5b190b70fdad4ed3af70777ffcd304b5",
            "placeholder": "​",
            "style": "IPY_MODEL_d0b1e06a64954e1698a566fb68f033e6",
            "value": "Translated Bengali Text: ####\n    আপনার কেমন চলছে?\n    ####"
          }
        },
        "5b190b70fdad4ed3af70777ffcd304b5": {
          "model_module": "@jupyter-widgets/base",
          "model_name": "LayoutModel",
          "model_module_version": "1.2.0",
          "state": {
            "_model_module": "@jupyter-widgets/base",
            "_model_module_version": "1.2.0",
            "_model_name": "LayoutModel",
            "_view_count": null,
            "_view_module": "@jupyter-widgets/base",
            "_view_module_version": "1.2.0",
            "_view_name": "LayoutView",
            "align_content": null,
            "align_items": null,
            "align_self": null,
            "border": null,
            "bottom": null,
            "display": null,
            "flex": null,
            "flex_flow": null,
            "grid_area": null,
            "grid_auto_columns": null,
            "grid_auto_flow": null,
            "grid_auto_rows": null,
            "grid_column": null,
            "grid_gap": null,
            "grid_row": null,
            "grid_template_areas": null,
            "grid_template_columns": null,
            "grid_template_rows": null,
            "height": null,
            "justify_content": null,
            "justify_items": null,
            "left": null,
            "margin": null,
            "max_height": null,
            "max_width": null,
            "min_height": null,
            "min_width": null,
            "object_fit": null,
            "object_position": null,
            "order": null,
            "overflow": null,
            "overflow_x": null,
            "overflow_y": null,
            "padding": null,
            "right": null,
            "top": null,
            "visibility": null,
            "width": null
          }
        },
        "d0b1e06a64954e1698a566fb68f033e6": {
          "model_module": "@jupyter-widgets/controls",
          "model_name": "DescriptionStyleModel",
          "model_module_version": "1.5.0",
          "state": {
            "_model_module": "@jupyter-widgets/controls",
            "_model_module_version": "1.5.0",
            "_model_name": "DescriptionStyleModel",
            "_view_count": null,
            "_view_module": "@jupyter-widgets/base",
            "_view_module_version": "1.2.0",
            "_view_name": "StyleView",
            "description_width": ""
          }
        }
      }
    }
  },
  "nbformat": 4,
  "nbformat_minor": 5
}